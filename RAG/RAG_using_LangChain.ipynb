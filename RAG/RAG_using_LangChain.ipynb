{
 "cells": [
  {
   "cell_type": "markdown",
   "id": "a9041297",
   "metadata": {},
   "source": [
    "RAG using LangChain\n",
    "\n",
    "![RAG Pipeline](download.png)"
   ]
  }
 ],
 "metadata": {
  "language_info": {
   "name": "python"
  }
 },
 "nbformat": 4,
 "nbformat_minor": 5
}
