{
 "cells": [
  {
   "cell_type": "markdown",
   "id": "a9041297",
   "metadata": {},
   "source": [
    "# RAG (Retrieval Augmented Generation) using LangChain and Gemini\n",
    "\n",
    "This notebook implements a RAG system using LangChain and Google's Gemini model.\n",
    "\n",
    "![RAG Pipeline](download.png)"
   ]
  },
  {
   "cell_type": "code",
   "execution_count": 38,
   "id": "38fb19ef",
   "metadata": {},
   "outputs": [
    {
     "name": "stderr",
     "output_type": "stream",
     "text": [
      "I0000 00:00:1755536530.231160 3900356 fork_posix.cc:71] Other threads are currently calling into gRPC, skipping fork() handlers\n"
     ]
    },
    {
     "name": "stdout",
     "output_type": "stream",
     "text": [
      "\u001b[33mWARNING: Ignoring invalid distribution -oogle-auth (/Users/vaishnavipullakhandam/anaconda3/lib/python3.10/site-packages)\u001b[0m\u001b[33m\n",
      "\u001b[0m\u001b[33mWARNING: Ignoring invalid distribution -oogle-auth (/Users/vaishnavipullakhandam/anaconda3/lib/python3.10/site-packages)\u001b[0m\u001b[33m\n",
      "\u001b[0m\u001b[33mWARNING: Ignoring invalid distribution -oogle-auth (/Users/vaishnavipullakhandam/anaconda3/lib/python3.10/site-packages)\u001b[0m\u001b[33m\n",
      "\u001b[0m\u001b[33mWARNING: Ignoring invalid distribution -oogle-auth (/Users/vaishnavipullakhandam/anaconda3/lib/python3.10/site-packages)\u001b[0m\u001b[33m\n",
      "\u001b[0m\u001b[33mWARNING: Ignoring invalid distribution -oogle-auth (/Users/vaishnavipullakhandam/anaconda3/lib/python3.10/site-packages)\u001b[0m\u001b[33m\n",
      "\u001b[0m\u001b[33mWARNING: Ignoring invalid distribution -oogle-auth (/Users/vaishnavipullakhandam/anaconda3/lib/python3.10/site-packages)\u001b[0m\u001b[33m\n",
      "\u001b[0mNote: you may need to restart the kernel to use updated packages.\n"
     ]
    }
   ],
   "source": [
    "# Install required packages\n",
    "%pip install langchain langchain-core langchain-community langchainhub \\\n",
    "            langchain-google-genai chromadb tiktoken python-dotenv bs4 --quiet"
   ]
  },
  {
   "cell_type": "code",
   "execution_count": 39,
   "id": "cc3f7574",
   "metadata": {},
   "outputs": [],
   "source": [
    "import os\n",
    "from dotenv import load_dotenv\n",
    "import bs4\n",
    "from langchain import hub\n",
    "from langchain.text_splitter import RecursiveCharacterTextSplitter\n",
    "from langchain_community.document_loaders import WebBaseLoader\n",
    "from langchain_community.vectorstores import Chroma\n",
    "from langchain_core.output_parsers import StrOutputParser\n",
    "from langchain_core.runnables import RunnablePassthrough\n",
    "from langchain_google_genai import ChatGoogleGenerativeAI, GoogleGenerativeAIEmbeddings\n",
    "\n",
    "# Load environment variables\n",
    "load_dotenv()\n",
    "\n",
    "# Verify Gemini API key is set\n",
    "google_api_key = os.getenv(\"GEMINI_API_KEY\")\n",
    "if not google_api_key:\n",
    "    raise ValueError(\"Please set GEMINI_API_KEY environment variable in .env file\")\n",
    "\n",
    "# Set the API key for Google's services\n",
    "os.environ[\"GOOGLE_API_KEY\"] = google_api_key"
   ]
  },
  {
   "cell_type": "code",
   "execution_count": 40,
   "id": "1e509085",
   "metadata": {},
   "outputs": [],
   "source": [
    "#### INDEXING ####\n",
    "\n",
    "# Custom webpage loader for better content extraction\n",
    "def load_webpage():\n",
    "    url = \"https://lilianweng.github.io/posts/2023-06-23-agent/\"\n",
    "    loader = WebBaseLoader(\n",
    "        web_paths=(url,),\n",
    "        bs_kwargs=dict(\n",
    "            parse_only=bs4.SoupStrainer(\n",
    "                [\"article\", \"div\", \"p\", \"h1\", \"h2\", \"h3\", \"h4\", \"li\"]\n",
    "            )\n",
    "        )\n",
    "    )\n",
    "    return loader.load()\n",
    "\n",
    "# Load documents\n",
    "docs = load_webpage()\n",
    "\n",
    "# Split documents\n",
    "text_splitter = RecursiveCharacterTextSplitter(chunk_size=2000, chunk_overlap=400)\n",
    "splits = text_splitter.split_documents(docs)\n",
    "\n",
    "# Create embeddings using Gemini\n",
    "embeddings = GoogleGenerativeAIEmbeddings(model=\"models/embedding-001\")\n",
    "\n",
    "# Create vector store\n",
    "vectorstore = Chroma.from_documents(\n",
    "    documents=splits,\n",
    "    embedding=embeddings\n",
    ")\n",
    "\n",
    "# Create retriever\n",
    "retriever = vectorstore.as_retriever(\n",
    "    search_type=\"similarity\",\n",
    "    search_kwargs={\"k\": 6}\n",
    ")\n"
   ]
  },
  {
   "cell_type": "code",
   "execution_count": 41,
   "id": "fdc2155e",
   "metadata": {},
   "outputs": [],
   "source": [
    "#### RETRIEVAL and GENERATION ####\n",
    "\n",
    "# Get the RAG prompt from LangChain hub\n",
    "prompt = hub.pull(\"rlm/rag-prompt\")\n",
    "\n",
    "# Initialize Gemini model\n",
    "llm = ChatGoogleGenerativeAI(model=\"gemini-1.5-flash\", temperature=0)\n",
    "\n",
    "# Create formatting function\n",
    "def format_docs(docs):\n",
    "    return \"\\n\\n\".join(doc.page_content for doc in docs)\n",
    "\n",
    "# Create the RAG chain\n",
    "rag_chain = (\n",
    "    {\"context\": retriever | format_docs, \"question\": RunnablePassthrough()}\n",
    "    | prompt\n",
    "    | llm\n",
    "    | StrOutputParser()\n",
    ")"
   ]
  },
  {
   "cell_type": "code",
   "execution_count": 42,
   "id": "2bf88693",
   "metadata": {},
   "outputs": [
    {
     "name": "stdout",
     "output_type": "stream",
     "text": [
      "\n",
      "Question: What is Task Decomposition and how is it used in AI agents?\n",
      "\n",
      "Answer:\n",
      "I am sorry, but this context does not contain information about task decomposition in AI agents.  Therefore, I cannot answer your question.\n",
      "\n",
      "--------------------------------------------------------------------------------\n",
      "\n",
      "Question: How do AI agents handle memory and what types of memory are discussed?\n",
      "\n",
      "Answer:\n",
      "AI agents handle memory using short-term memory (in-context learning within a limited context window) and long-term memory (external vector stores for retrieval).  The types of memory discussed include short-term, long-term, and  mappings to human memory types like sensory, explicit/declarative, and implicit/procedural memory.\n",
      "\n",
      "--------------------------------------------------------------------------------\n",
      "\n",
      "Question: What are the main challenges in LLM-powered autonomous agents?\n",
      "\n",
      "Answer:\n",
      "The provided text only mentions that there are \"a couple common limitations\" in building LLM-centered agents, but it doesn't specify what those limitations are.  Therefore, I don't know the main challenges.\n",
      "\n",
      "--------------------------------------------------------------------------------\n"
     ]
    }
   ],
   "source": [
    "# Test the RAG system\n",
    "questions = [\n",
    "    \"What is Task Decomposition and how is it used in AI agents?\",\n",
    "    \"How do AI agents handle memory and what types of memory are discussed?\",\n",
    "    \"What are the main challenges in LLM-powered autonomous agents?\"\n",
    "]\n",
    "\n",
    "for question in questions:\n",
    "    print(f\"\\nQuestion: {question}\")\n",
    "    print(\"\\nAnswer:\")\n",
    "    response = rag_chain.invoke(question)\n",
    "    print(response)\n",
    "    print(\"\\n\" + \"-\"*80)"
   ]
  }
 ],
 "metadata": {
  "kernelspec": {
   "display_name": "base",
   "language": "python",
   "name": "python3"
  },
  "language_info": {
   "codemirror_mode": {
    "name": "ipython",
    "version": 3
   },
   "file_extension": ".py",
   "mimetype": "text/x-python",
   "name": "python",
   "nbconvert_exporter": "python",
   "pygments_lexer": "ipython3",
   "version": "3.10.9"
  }
 },
 "nbformat": 4,
 "nbformat_minor": 5
}
