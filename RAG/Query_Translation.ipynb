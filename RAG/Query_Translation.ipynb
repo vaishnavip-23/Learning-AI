{
 "cells": [
  {
   "cell_type": "markdown",
   "id": "0d15a9d9",
   "metadata": {},
   "source": [
    "Understand Query Translation through code\n",
    "\n",
    "![Query Translation Pipeline](query_translation.jpg)"
   ]
  }
 ],
 "metadata": {
  "language_info": {
   "name": "python"
  }
 },
 "nbformat": 4,
 "nbformat_minor": 5
}
