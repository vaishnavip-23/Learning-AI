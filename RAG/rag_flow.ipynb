{
 "cells": [
  {
   "cell_type": "code",
   "execution_count": 54,
   "id": "1be4fa9b",
   "metadata": {},
   "outputs": [
    {
     "name": "stdout",
     "output_type": "stream",
     "text": [
      "Note: you may need to restart the kernel to use updated packages.\n"
     ]
    }
   ],
   "source": [
    "# Install packages\n",
    "%pip install --upgrade google-genai sentence-transformers faiss-cpu langchain-text-splitters python-dotenv --quiet\n"
   ]
  },
  {
   "cell_type": "code",
   "execution_count": 55,
   "id": "4e25f37a",
   "metadata": {},
   "outputs": [],
   "source": [
    "# Imports\n",
    "\n",
    "from google import genai\n",
    "from google.genai import types\n",
    "\n",
    "import os,math, uuid\n",
    "from dataclasses import dataclass\n",
    "from typing import List, Dict, Tuple\n",
    "\n",
    "import numpy as np\n",
    "import faiss\n",
    "\n",
    "from sentence_transformers import SentenceTransformer # for local embedding\n",
    "from langchain_text_splitters import RecursiveCharacterTextSplitter #simple chunker \n",
    "\n",
    "from dotenv import load_dotenv\n",
    "load_dotenv()\n",
    "\n",
    "GEMINI_API_KEY = os.getenv(\"GEMINI_API_KEY\")\n",
    "if not GEMINI_API_KEY:\n",
    "    raise RuntimeError(\"GEMINI_API_KEY is not set\")\n",
    "\n",
    "client = genai.Client(api_key=GEMINI_API_KEY)\n",
    "\n",
    "GEMINI_GEN_MODEL=\"gemini-2.5-flash\" #fast, good for RAG\n",
    "\n",
    "LOCAL_EMBEDDING_MODEL=\"all-MiniLM-L6-v2\" #small, fast, good for RAG\n",
    "\n",
    "\n",
    "\n",
    "\n"
   ]
  },
  {
   "cell_type": "code",
   "execution_count": 56,
   "id": "44729c9b",
   "metadata": {},
   "outputs": [],
   "source": [
    "# Document Example on which we'll perform retrieveal \n",
    "# Each doc has: id, title, text, and optional metadata.\n",
    "DOCUMENTS = [\n",
    "    {\n",
    "        \"id\": \"doc1\",\n",
    "        \"title\": \"Baking Basics\",\n",
    "        \"text\": \"Cakes are baked at moderate temperatures. Common ingredients are flour, sugar, eggs, and butter. Icing is added after the cake cools.\",\n",
    "        \"meta\": {\"source\": \"kitchen-notes\", \"lang\": \"en\"}\n",
    "    },\n",
    "    {\n",
    "        \"id\": \"doc2\",\n",
    "        \"title\": \"Healthy Desserts\",\n",
    "        \"text\": \"For a lighter dessert, substitute part of the sugar with fruit purees. Consider whole-grain flour. Yogurt frostings can reduce fat.\",\n",
    "        \"meta\": {\"source\": \"health-blog\", \"lang\": \"en\"}\n",
    "    },\n",
    "    {\n",
    "        \"id\": \"doc3\",\n",
    "        \"title\": \"Birthday Traditions\",\n",
    "        \"text\": \"Many cultures celebrate birthdays with a sweet cake, candles, and a wish. Popular flavors include chocolate and vanilla.\",\n",
    "        \"meta\": {\"source\": \"culture-wiki\", \"lang\": \"en\"}\n",
    "    },\n",
    "]"
   ]
  },
  {
   "cell_type": "code",
   "execution_count": 57,
   "id": "aba68364",
   "metadata": {},
   "outputs": [
    {
     "name": "stdout",
     "output_type": "stream",
     "text": [
      "6\n"
     ]
    }
   ],
   "source": [
    "# Chunking \n",
    "# Goal: split long docs into chunks so retrieval can target the right part.\n",
    "# We’ll use a character-based splitter with a small overlap.\n",
    "\n",
    "def chunk_documents(docs:List[Dict],chunk_size,chunk_overlap):\n",
    "    # Returns: list of chunk dicts with fields: chunk_id, doc_id, text, meta\n",
    "    splitter = RecursiveCharacterTextSplitter(\n",
    "        chunk_size=chunk_size,\n",
    "        chunk_overlap=chunk_overlap,\n",
    "        separators=[\"\\n\\n\", \"\\n\", \".\", \" \", \"\"]\n",
    "    )\n",
    "    chunks=[]\n",
    "    for doc in docs:\n",
    "        parts = splitter.split_text(doc[\"text\"])\n",
    "        for i,part in enumerate(parts):\n",
    "            chunks.append({\n",
    "                \"chunk_id\":f\"{doc['id']}::chunk{i}\",\n",
    "                \"doc_id\":doc[\"id\"],\n",
    "                \"text\":part,\n",
    "                \"meta\":doc.get(\"meta\",{}),\n",
    "                \"title\":doc.get(\"title\",\"\")\n",
    "            })\n",
    "            \n",
    "    return chunks\n",
    "CHUNKS = chunk_documents(DOCUMENTS,chunk_size=100,chunk_overlap=40)\n",
    "print(len(CHUNKS))\n",
    "# print(CHUNKS[0],end=\"\\n\\n\")\n",
    "\n",
    "\n",
    "\n",
    "\n",
    "\n"
   ]
  },
  {
   "cell_type": "code",
   "execution_count": null,
   "id": "38569da7",
   "metadata": {},
   "outputs": [],
   "source": [
    "# Embeddings and storing it in FAISS (vector store)"
   ]
  }
 ],
 "metadata": {
  "kernelspec": {
   "display_name": "base",
   "language": "python",
   "name": "python3"
  },
  "language_info": {
   "codemirror_mode": {
    "name": "ipython",
    "version": 3
   },
   "file_extension": ".py",
   "mimetype": "text/x-python",
   "name": "python",
   "nbconvert_exporter": "python",
   "pygments_lexer": "ipython3",
   "version": "3.10.9"
  }
 },
 "nbformat": 4,
 "nbformat_minor": 5
}
