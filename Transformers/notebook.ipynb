{
 "cells": [
  {
   "cell_type": "markdown",
   "id": "15e02ed4",
   "metadata": {},
   "source": [
    "Understanding Transformers\n",
    "\n",
    "A transformer is a type of deep learning model architecture introduced in 2017 by Vaswani et al. in the paper \"Attention Is All You Need\" that processes sequences (like text, audio, or time-series data) using a mechanism called self-attention to understand relationships between elements, regardless of their position in the sequence.\n",
    "\n",
    "Unlike older models like RNNs or LSTMs, transformers don’t read inputs strictly left-to-right or right-to-left — they look at the entire sequence at once, figuring out which parts are important for each prediction.\n",
    "\n",
    "In simple terms:\n",
    "It’s like reading a whole paragraph and instantly noticing which words are most connected, instead of reading word-by-word and slowly remembering the context.\n",
    "\n",
    "Query (Q): “What am I looking for?”\n",
    "Key (K): “What do I have to offer?”\n",
    "Value (V): “What’s my actual information?” (this is the vector embedding each word in a sentence has)\n",
    "\n",
    "Q and K give us the probability of how important a word is in a sentence and that probability is dot producted with the V."
   ]
  },
  {
   "cell_type": "markdown",
   "id": "4dbf5c47",
   "metadata": {},
   "source": [
    "The pipeline() function you’re talking about is not part of the original Transformer architecture at all — it’s a convenience feature that Hugging Face created in their Transformers library to make using pre-trained models super quick without having to manually tokenize, run the model, and decode the output yourself."
   ]
  },
  {
   "cell_type": "markdown",
   "id": "73dfdbdb",
   "metadata": {},
   "source": [
    "Encoder Transformer Model : BERT (Bidirectional encoder representations from transformers) Google 2018 \n",
    "Useful for understanding text, tasks like masked token prediction and next sentence prediction\n",
    "\n",
    "Text  → Tokenizer → IDs → BERT Encoder → Output embeddings → Task-specific head → Prediction\n",
    "\n",
    "Decoder-only Transformer Model:  GPT (Generative Pretrained Transformer) — OpenAI, 2018\n",
    "\n",
    "Useful for text generation, completion, and autoregressive prediction.\n",
    "Trained with causal masking to predict the next token in a sequence.\n",
    "\n",
    "Text → Tokenizer → IDs → Decoder Transformer (causal mask) → Output logits → Softmax → Next token prediction\n",
    "\n",
    "Encoder–Decoder (Seq2Seq) Transformer Model : T5 (Text-to-Text Transfer Transformer) — Google, 2020 / BART — Facebook, 2019\n",
    "\n",
    "Useful for translation, summarization, question answering — tasks where input and output can be different sequences.\n",
    "Encoder understands the input, decoder generates the output conditioned on encoder output.\n",
    "\n",
    "Input text → Tokenizer → IDs → Encoder → Context embeddings\n",
    "Context embeddings + Start token → Decoder → Output logits → Softmax → Next token prediction\n"
   ]
  },
  {
   "cell_type": "code",
   "execution_count": null,
   "id": "f8c80270",
   "metadata": {},
   "outputs": [],
   "source": []
  }
 ],
 "metadata": {
  "kernelspec": {
   "display_name": "base",
   "language": "python",
   "name": "python3"
  },
  "language_info": {
   "codemirror_mode": {
    "name": "ipython",
    "version": 3
   },
   "file_extension": ".py",
   "mimetype": "text/x-python",
   "name": "python",
   "nbconvert_exporter": "python",
   "pygments_lexer": "ipython3",
   "version": "3.10.9"
  }
 },
 "nbformat": 4,
 "nbformat_minor": 5
}
